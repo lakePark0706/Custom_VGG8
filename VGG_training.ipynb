{
 "cells": [
  {
   "cell_type": "code",
   "execution_count": 4,
   "metadata": {},
   "outputs": [],
   "source": [
    "import numpy as np\n",
    "#from common.gradient import numerical_gradient\n",
    "from collections import OrderedDict\n",
    "from src.functions import *\n",
    "from src.layers import *\n",
    "from src.VGGnet import *"
   ]
  },
  {
   "cell_type": "code",
   "execution_count": 5,
   "metadata": {},
   "outputs": [],
   "source": [
    "#load MNIST dataset\n",
    "import sys, os\n",
    "sys.path.append(os.pardir) \n",
    "from dataset.mnist import load_mnist\n",
    "\n",
    "(x_train, t_train), (x_test, t_test) = load_mnist(flatten=False)\n",
    "x_train, t_train = x_train[:5000], t_train[:5000]\n",
    "x_test, t_test = x_test[:1000], t_test[:1000]"
   ]
  },
  {
   "cell_type": "code",
   "execution_count": 6,
   "metadata": {},
   "outputs": [],
   "source": [
    "network = VGGNet(input_dim=(1,28,28), \n",
    "                        conv_params = {'filter_size': 3, 'pad': 1, 'stride': 1},\n",
    "                        output_size=10, weight_init_std=0.01)\n",
    "iter_num = 20\n",
    "train_size = x_train.shape[0]\n",
    "batch_size = 100\n",
    "learning_rate = 0.1\n",
    "\n",
    "train_loss_list = []\n",
    "train_acc_list = []\n",
    "test_acc_list = []\n",
    "\n",
    "iter_per_epoch = max(iter_num/batch_size, 1)\n",
    "\n",
    "for i in range(iter_num):\n",
    "    #select mini batch\n",
    "    batch_mask = np.random.choice(train_size, batch_size)\n",
    "    x_batch = x_train[batch_mask]\n",
    "    t_batch = t_train[batch_mask]\n",
    "\n",
    "    #calculate gradient of mini batch\n",
    "    grad = network.gradient(x_batch, t_batch)\n",
    "\n",
    "    for key in ('conv1_W', 'conv1_b', 'conv2_W', 'conv2_b','conv3_W', \\\n",
    "        'conv3_b','conv4_W', 'conv4_b','conv5_W', 'conv5_b','fcl1_W', 'fcl1_b', 'fcl2_W', 'fcl2_b'):\n",
    "        network.params[key] -= grad[key]*learning_rate\n",
    "\n",
    "    #save losses\n",
    "    loss = network.loss(x_batch, t_batch)\n",
    "    train_loss_list.append(loss)\n",
    "\n",
    "    if i% iter_per_epoch == 0:\n",
    "        train_acc = network.accuracy(x_train, t_train)\n",
    "        test_acc = network.accuracy(x_test, t_test)\n",
    "        train_acc_list.append(train_acc)\n",
    "        test_acc_list.append(test_acc)\n",
    "\n",
    "        print(\"train acc, test acc-> \" , train_acc, test_acc, \"\\n\")"
   ]
  }
 ],
 "metadata": {
  "kernelspec": {
   "display_name": "Python 3.9.13 64-bit",
   "language": "python",
   "name": "python3"
  },
  "language_info": {
   "codemirror_mode": {
    "name": "ipython",
    "version": 3
   },
   "file_extension": ".py",
   "mimetype": "text/x-python",
   "name": "python",
   "nbconvert_exporter": "python",
   "pygments_lexer": "ipython3",
   "version": "3.9.13"
  },
  "orig_nbformat": 4,
  "vscode": {
   "interpreter": {
    "hash": "767d51c1340bd893661ea55ea3124f6de3c7a262a8b4abca0554b478b1e2ff90"
   }
  }
 },
 "nbformat": 4,
 "nbformat_minor": 2
}
